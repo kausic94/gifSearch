{
 "cells": [
  {
   "cell_type": "code",
   "execution_count": 3,
   "metadata": {
    "collapsed": false
   },
   "outputs": [
    {
     "name": "stderr",
     "output_type": "stream",
     "text": [
      "/usr/local/lib/python2.7/dist-packages/h5py/__init__.py:36: FutureWarning: Conversion of the second argument of issubdtype from `float` to `np.floating` is deprecated. In future, it will be treated as `np.float64 == np.dtype(float).type`.\n",
      "  from ._conv import register_converters as _register_converters\n"
     ]
    }
   ],
   "source": [
    "import tensorflow as tf\n",
    "from PIL import Image\n",
    "import numpy as np\n",
    "import matplotlib.pyplot as plt\n",
    "from PIL import ImageSequence\n",
    "import cv2\n",
    "\n",
    "%matplotlib inline"
   ]
  },
  {
   "cell_type": "code",
   "execution_count": 50,
   "metadata": {
    "collapsed": true
   },
   "outputs": [],
   "source": [
    "class gifEmbedding():\n",
    "    def __init__(self):\n",
    "        self.inputs=  tf.placeholder(tf.float32,(None,32,256,256,1))\n",
    "        self.nearestTextEmbedding=tf.placeholder(tf.float32,(None,100))\n",
    "        self.farthestTextEmbedding=tf.placeholder(tf.float32,(None,100))\n",
    "        self.MAXEPOCHS =10 \n",
    "        self.currentEpoch = 0\n",
    "        self.itr = 0\n",
    "    def model(self):\n",
    "        with tf.variable_scope(\"C3D\",reuse=tf.AUTO_REUSE):\n",
    "            conv1 = tf.layers.conv3d(self.inputs,filters =64, kernel_size=(3,3,3),activation = tf.nn.relu,kernel_initializer=tf.initializers.truncated_normal(mean=0,stddev=0.1),strides=(1,2,2),padding ='same')\n",
    "            \n",
    "            conv2 = tf.layers.conv3d(conv1,filters =128, kernel_size=(3,3,3),activation = tf.nn.relu,kernel_initializer=tf.initializers.truncated_normal(mean=0,stddev=0.1),strides=(2,2,2),padding ='same')\n",
    "            \n",
    "            conv3a = tf.layers.conv3d(conv2,filters =256, kernel_size=(3,3,3),activation = tf.nn.relu,kernel_initializer=tf.initializers.truncated_normal(mean=0,stddev=0.1),strides=(1,1,1),padding ='same')\n",
    "            conv3b = tf.layers.conv3d(conv3a,filters =256, kernel_size=(3,3,3),activation = tf.nn.relu,kernel_initializer=tf.initializers.truncated_normal(mean=0,stddev=0.1),strides=(2,2,2),padding ='same')\n",
    "            \n",
    "            conv4a = tf.layers.conv3d(conv3b,filters =512, kernel_size=(3,3,3),activation = tf.nn.relu,kernel_initializer=tf.initializers.truncated_normal(mean=0,stddev=0.1),strides=(1,1,1),padding ='same')\n",
    "            conv4b = tf.layers.conv3d(conv4a,filters =512, kernel_size=(3,3,3),activation = tf.nn.relu,kernel_initializer=tf.initializers.truncated_normal(mean=0,stddev=0.1),strides=(2,2,2),padding ='same')\n",
    "            \n",
    "            conv5a = tf.layers.conv3d(conv4b,filters =512, kernel_size=(3,3,3),activation = tf.nn.relu,kernel_initializer=tf.initializers.truncated_normal(mean=0,stddev=0.1),strides=(1,1,1),padding ='same')\n",
    "            conv5b = tf.layers.conv3d(conv5a,filters =512, kernel_size=(3,3,3),activation = tf.nn.relu,kernel_initializer=tf.initializers.truncated_normal(mean=0,stddev=0.1),strides=(2,2,2),padding ='same')\n",
    "            \n",
    "            fc6    = tf.layers.flatten(conv5b)\n",
    "            fc6    = tf.layers.dense(fc6,8192,activation=tf.nn.relu,kernel_initializer=tf.initializers.truncated_normal(0,0.1))\n",
    "            fc7    = tf.layers.dense(fc6,1024,activation=tf.nn.relu,kernel_initializer=tf.initializers.truncated_normal(0,0.1))\n",
    "            fc8    = tf.layers.dense(fc7,100,activation=None,kernel_initializer=tf.initializers.truncated_normal(0,0.1),name=\"Embedding\")\n",
    "        return fc8\n",
    "    \n",
    "    def train(self) :\n",
    "        self.out = model\n",
    "        self.loss = tf.losses.mean_squared_error(self.nearestTextEmbedding,self.out) -  tf.losses.mean_squared_error(self.farthestTextEmbedding,self.out)\n",
    "        #set summaries\n",
    "        #set summary writer\n",
    "        #config = tf.configProto\n",
    "        #optimizer and two operations\n",
    "        #loop start 0 -> length of the train dataset\n",
    "            # print freq\n",
    "            # valid freq\n",
    "            #save model freq \n",
    "    \n",
    "    def restoreModel(self):\n",
    "        #restore the model\n",
    "        \n",
    "    def test(self):\n",
    "        # restore model\n",
    "        # for entire test batch of one epoch\n",
    "        # get the loss values of embedding\n",
    "    \n",
    "    def getgifEmbedding(self,gifList):\n",
    "        # get GIFs and send into the model \n",
    "        #return embedding  \n",
    "        \n",
    "        \n",
    "        \n",
    "    def randomRun(self,frames):\n",
    "        with tf.Session() as sess :\n",
    "            model =self.model()\n",
    "            sess.run(tf.global_variables_initializer())\n",
    "            out =  sess.run(model, feed_dict={self.inputs:frames})\n",
    "        return out"
   ]
  },
  {
   "cell_type": "code",
   "execution_count": 51,
   "metadata": {
    "collapsed": false,
    "scrolled": true
   },
   "outputs": [
    {
     "name": "stdout",
     "output_type": "stream",
     "text": [
      "(1, 63, 256, 256, 1) (1, 23, 256, 256, 1) (1, 27, 256, 256, 1)\n"
     ]
    }
   ],
   "source": [
    "gif1 = Image.open('sample.gif')\n",
    "frames = np.array([cv2.resize(np.array(frame.copy()),(256,256)) for frame in ImageSequence.Iterator(gif1)]).reshape(1,-1,256,256,1)\n",
    "gif2 = Image.open('sample2.gif')\n",
    "frames2 = np.array([cv2.resize(np.array(frame.copy()),(256,256)) for frame in ImageSequence.Iterator(gif2)]).reshape(1,-1,256,256,1)\n",
    "gif3 = Image.open('sample3.gif')\n",
    "frames3 = np.array([cv2.resize(np.array(frame.copy()),(256,256)) for frame in ImageSequence.Iterator(gif3)]).reshape(1,-1,256,256,1)\n",
    "print frames.shape,frames2.shape,frames3.shape"
   ]
  },
  {
   "cell_type": "code",
   "execution_count": 52,
   "metadata": {
    "collapsed": false
   },
   "outputs": [],
   "source": [
    "tf.reset_default_graph()\n",
    "ge=gifEmbedding()\n",
    "o = ge.randomRun(frames[:,:32,:,:])"
   ]
  },
  {
   "cell_type": "code",
   "execution_count": 53,
   "metadata": {
    "collapsed": false
   },
   "outputs": [
    {
     "data": {
      "text/plain": [
       "(1, 4096)"
      ]
     },
     "execution_count": 53,
     "metadata": {},
     "output_type": "execute_result"
    }
   ],
   "source": [
    "o.shape"
   ]
  },
  {
   "cell_type": "code",
   "execution_count": 36,
   "metadata": {
    "collapsed": false
   },
   "outputs": [
    {
     "data": {
      "text/plain": [
       "8192"
      ]
     },
     "execution_count": 36,
     "metadata": {},
     "output_type": "execute_result"
    }
   ],
   "source": []
  },
  {
   "cell_type": "code",
   "execution_count": null,
   "metadata": {
    "collapsed": true
   },
   "outputs": [],
   "source": []
  }
 ],
 "metadata": {
  "kernelspec": {
   "display_name": "Python 2",
   "language": "python",
   "name": "python2"
  },
  "language_info": {
   "codemirror_mode": {
    "name": "ipython",
    "version": 2
   },
   "file_extension": ".py",
   "mimetype": "text/x-python",
   "name": "python",
   "nbconvert_exporter": "python",
   "pygments_lexer": "ipython2",
   "version": "2.7.6"
  }
 },
 "nbformat": 4,
 "nbformat_minor": 1
}
